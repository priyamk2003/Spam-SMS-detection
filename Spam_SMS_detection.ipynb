{
 "cells": [
  {
   "cell_type": "markdown",
   "id": "1db17d3d-df14-4491-9c18-80ebe320ae71",
   "metadata": {},
   "source": [
    "IMPORTING "
   ]
  },
  {
   "cell_type": "code",
   "execution_count": 16,
   "id": "c4a9a1d9-7d58-4ec2-8d32-e69bc24034fb",
   "metadata": {},
   "outputs": [],
   "source": [
    "import pandas as pd\n",
    "import numpy as np\n",
    "import matplotlib.pyplot as plt\n",
    "import seaborn as sns\n",
    "import string\n",
    "import re\n",
    "from sklearn.model_selection import train_test_split\n",
    "from sklearn.feature_extraction.text import TfidfVectorizer\n",
    "from sklearn.naive_bayes import MultinomialNB\n",
    "from sklearn.metrics import accuracy_score, confusion_matrix, classification_report"
   ]
  },
  {
   "cell_type": "markdown",
   "id": "8b2ee4a1-4f7b-492e-898e-4c3f2cfe8167",
   "metadata": {},
   "source": [
    "LOADING"
   ]
  },
  {
   "cell_type": "code",
   "execution_count": 17,
   "id": "09b23ab4-abf4-4ac8-bb00-736b0cc178ad",
   "metadata": {},
   "outputs": [],
   "source": [
    "df = pd.read_csv('spam.csv', encoding='latin-1')\n",
    "df = df[['v1', 'v2']]  \n",
    "df.columns = ['label', 'message'] "
   ]
  },
  {
   "cell_type": "markdown",
   "id": "0548fa36-745a-47d6-a2c3-4834b33074d5",
   "metadata": {},
   "source": [
    "EDA"
   ]
  },
  {
   "cell_type": "code",
   "execution_count": 18,
   "id": "aaababa2-bff4-4d9e-b70b-ebe122f75f56",
   "metadata": {},
   "outputs": [
    {
     "name": "stdout",
     "output_type": "stream",
     "text": [
      "Dataset Shape: (5572, 2)\n",
      "\n",
      "First 5 Rows:\n",
      "   label                                            message\n",
      "0   ham  Go until jurong point, crazy.. Available only ...\n",
      "1   ham                      Ok lar... Joking wif u oni...\n",
      "2  spam  Free entry in 2 a wkly comp to win FA Cup fina...\n",
      "3   ham  U dun say so early hor... U c already then say...\n",
      "4   ham  Nah I don't think he goes to usf, he lives aro...\n",
      "\n",
      "Class Distribution:\n",
      " label\n",
      "ham     4825\n",
      "spam     747\n",
      "Name: count, dtype: int64\n"
     ]
    }
   ],
   "source": [
    "print(\"Dataset Shape:\", df.shape)\n",
    "print(\"\\nFirst 5 Rows:\\n\", df.head())\n",
    "print(\"\\nClass Distribution:\\n\", df['label'].value_counts())"
   ]
  },
  {
   "cell_type": "markdown",
   "id": "90ad4254-fdc5-4df1-a064-dfa199d6fe02",
   "metadata": {},
   "source": [
    "CONVERSION"
   ]
  },
  {
   "cell_type": "code",
   "execution_count": 19,
   "id": "3c85614f-7204-4d08-ad51-5546b52a7ea9",
   "metadata": {},
   "outputs": [],
   "source": [
    "df['label'] = df['label'].map({'ham': 0, 'spam': 1})"
   ]
  },
  {
   "cell_type": "markdown",
   "id": "3fdf3c71-9fc2-4a02-9def-db7697219f9f",
   "metadata": {},
   "source": [
    "PREPROCESSING"
   ]
  },
  {
   "cell_type": "code",
   "execution_count": 20,
   "id": "7d34f73f-dad6-4101-a493-cc337fdb436b",
   "metadata": {},
   "outputs": [],
   "source": [
    "def clean_text(text):\n",
    "    text = text.lower()\n",
    "    text = re.sub(r'\\d+', '', text)\n",
    "    text = text.translate(str.maketrans('', '', string.punctuation)) \n",
    "    text = re.sub(r'\\s+', ' ', text).strip() \n",
    "    return text\n",
    "\n",
    "df['cleaned_message'] = df['message'].apply(clean_text)"
   ]
  },
  {
   "cell_type": "markdown",
   "id": "ab0c1c4f-d2d3-4a9a-9cf1-afcc8174bed7",
   "metadata": {},
   "source": [
    "TF-IDF"
   ]
  },
  {
   "cell_type": "code",
   "execution_count": 21,
   "id": "7711ed31-e812-4fe5-a1fe-3997a0f392d7",
   "metadata": {},
   "outputs": [],
   "source": [
    "tfidf = TfidfVectorizer(stop_words='english', max_df=0.7)\n",
    "X = tfidf.fit_transform(df['cleaned_message'])\n",
    "y = df['label']\n"
   ]
  },
  {
   "cell_type": "markdown",
   "id": "9db1f8c5-486a-4ba6-a63b-e5dcc25d9341",
   "metadata": {},
   "source": [
    "MODEL"
   ]
  },
  {
   "cell_type": "code",
   "execution_count": 22,
   "id": "642aff86-c668-4b81-aa54-0dc21420a1d7",
   "metadata": {},
   "outputs": [],
   "source": [
    "X_train, X_test, y_train, y_test = train_test_split(X, y, test_size=0.2, random_state=42)\n",
    "model = MultinomialNB()\n",
    "model.fit(X_train, y_train)\n",
    "y_pred = model.predict(X_test)"
   ]
  },
  {
   "cell_type": "markdown",
   "id": "a905c021-6d99-4904-91b0-a18db86231da",
   "metadata": {},
   "source": [
    "EVALUATION"
   ]
  },
  {
   "cell_type": "code",
   "execution_count": 23,
   "id": "d9053f4c-243a-4010-9987-1fe27b5232ff",
   "metadata": {},
   "outputs": [
    {
     "name": "stdout",
     "output_type": "stream",
     "text": [
      "\n",
      "=== Model Evaluation ===\n",
      "Accuracy: 0.968609865470852\n",
      "\n",
      "Classification Report:\n",
      "               precision    recall  f1-score   support\n",
      "\n",
      "           0       0.96      1.00      0.98       965\n",
      "           1       1.00      0.77      0.87       150\n",
      "\n",
      "    accuracy                           0.97      1115\n",
      "   macro avg       0.98      0.88      0.93      1115\n",
      "weighted avg       0.97      0.97      0.97      1115\n",
      "\n",
      "\n",
      "Confusion Matrix:\n",
      " [[965   0]\n",
      " [ 35 115]]\n"
     ]
    }
   ],
   "source": [
    "print(\"\\n=== Model Evaluation ===\")\n",
    "print(\"Accuracy:\", accuracy_score(y_test, y_pred))\n",
    "print(\"\\nClassification Report:\\n\", classification_report(y_test, y_pred))\n",
    "print(\"\\nConfusion Matrix:\\n\", confusion_matrix(y_test, y_pred))"
   ]
  },
  {
   "cell_type": "markdown",
   "id": "4f7ef0a1-b496-45cf-b295-eec07bec9929",
   "metadata": {},
   "source": [
    "TEST PREDICTION"
   ]
  },
  {
   "cell_type": "code",
   "execution_count": 24,
   "id": "88893ccc-ae0a-469f-b377-dadf647919ed",
   "metadata": {},
   "outputs": [
    {
     "name": "stdout",
     "output_type": "stream",
     "text": [
      "\n",
      "Sample Message Prediction: Spam\n"
     ]
    }
   ],
   "source": [
    "def predict_message(text):\n",
    "    text_cleaned = clean_text(text)\n",
    "    vect_text = tfidf.transform([text_cleaned])\n",
    "    prediction = model.predict(vect_text)\n",
    "    return \"Spam\" if prediction[0] == 1 else \"Not Spam\"\n",
    "\n",
    "sample_text = \"Congratulations! You've won a free ticket. Reply CLAIM to get it now.\"\n",
    "print(\"\\nSample Message Prediction:\", predict_message(sample_text))"
   ]
  }
 ],
 "metadata": {
  "kernelspec": {
   "display_name": "Python 3 (ipykernel)",
   "language": "python",
   "name": "python3"
  },
  "language_info": {
   "codemirror_mode": {
    "name": "ipython",
    "version": 3
   },
   "file_extension": ".py",
   "mimetype": "text/x-python",
   "name": "python",
   "nbconvert_exporter": "python",
   "pygments_lexer": "ipython3",
   "version": "3.10.16"
  }
 },
 "nbformat": 4,
 "nbformat_minor": 5
}
